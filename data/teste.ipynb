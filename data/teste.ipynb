{
 "cells": [
  {
   "cell_type": "code",
   "execution_count": 78,
   "metadata": {},
   "outputs": [],
   "source": [
    "import pandas as pd\n",
    "import openpyxl\n",
    "import numpy as np\n",
    "import math"
   ]
  },
  {
   "cell_type": "code",
   "execution_count": 94,
   "metadata": {},
   "outputs": [
    {
     "ename": "AttributeError",
     "evalue": "'DataFrameGroupBy' object has no attribute 'reset_index'",
     "output_type": "error",
     "traceback": [
      "\u001b[0;31m---------------------------------------------------------------------------\u001b[0m",
      "\u001b[0;31mAttributeError\u001b[0m                            Traceback (most recent call last)",
      "Cell \u001b[0;32mIn[94], line 4\u001b[0m\n\u001b[1;32m      1\u001b[0m \u001b[39m# Sample DataFrame\u001b[39;00m\n\u001b[1;32m      3\u001b[0m df \u001b[39m=\u001b[39m pd\u001b[39m.\u001b[39mread_csv(\u001b[39m'\u001b[39m\u001b[39m/home/igor/Desafio-VLGI/Desafio-VLGI/data/fake_position.csv\u001b[39m\u001b[39m'\u001b[39m)\n\u001b[0;32m----> 4\u001b[0m df \u001b[39m=\u001b[39m df\u001b[39m.\u001b[39;49mgroupby([\u001b[39m'\u001b[39;49m\u001b[39masset_cnpj\u001b[39;49m\u001b[39m'\u001b[39;49m])\u001b[39m.\u001b[39;49mreset_index()\n",
      "File \u001b[0;32m~/.local/lib/python3.10/site-packages/pandas/core/groupby/groupby.py:952\u001b[0m, in \u001b[0;36mGroupBy.__getattr__\u001b[0;34m(self, attr)\u001b[0m\n\u001b[1;32m    949\u001b[0m \u001b[39mif\u001b[39;00m attr \u001b[39min\u001b[39;00m \u001b[39mself\u001b[39m\u001b[39m.\u001b[39mobj:\n\u001b[1;32m    950\u001b[0m     \u001b[39mreturn\u001b[39;00m \u001b[39mself\u001b[39m[attr]\n\u001b[0;32m--> 952\u001b[0m \u001b[39mraise\u001b[39;00m \u001b[39mAttributeError\u001b[39;00m(\n\u001b[1;32m    953\u001b[0m     \u001b[39mf\u001b[39m\u001b[39m\"\u001b[39m\u001b[39m'\u001b[39m\u001b[39m{\u001b[39;00m\u001b[39mtype\u001b[39m(\u001b[39mself\u001b[39m)\u001b[39m.\u001b[39m\u001b[39m__name__\u001b[39m\u001b[39m}\u001b[39;00m\u001b[39m'\u001b[39m\u001b[39m object has no attribute \u001b[39m\u001b[39m'\u001b[39m\u001b[39m{\u001b[39;00mattr\u001b[39m}\u001b[39;00m\u001b[39m'\u001b[39m\u001b[39m\"\u001b[39m\n\u001b[1;32m    954\u001b[0m )\n",
      "\u001b[0;31mAttributeError\u001b[0m: 'DataFrameGroupBy' object has no attribute 'reset_index'"
     ]
    }
   ],
   "source": [
    "\n",
    "# Sample DataFrame\n",
    "\n",
    "df = pd.read_csv('/home/igor/Desafio-VLGI/Desafio-VLGI/data/fake_position.csv')\n",
    "df = df['account_code']\n"
   ]
  },
  {
   "cell_type": "code",
   "execution_count": 93,
   "metadata": {},
   "outputs": [
    {
     "data": {
      "text/plain": [
       "<pandas.core.groupby.generic.DataFrameGroupBy object at 0x7fe8ce79d930>"
      ]
     },
     "execution_count": 93,
     "metadata": {},
     "output_type": "execute_result"
    }
   ],
   "source": [
    "df"
   ]
  },
  {
   "cell_type": "code",
   "execution_count": null,
   "metadata": {},
   "outputs": [],
   "source": [
    "\n",
    "al = pd.read_excel('/home/igor/Desafio-VLGI/Desafio-VLGI/data/fake_allocation_policies.xlsx')"
   ]
  },
  {
   "cell_type": "code",
   "execution_count": null,
   "metadata": {},
   "outputs": [
    {
     "data": {
      "text/html": [
       "<div>\n",
       "<style scoped>\n",
       "    .dataframe tbody tr th:only-of-type {\n",
       "        vertical-align: middle;\n",
       "    }\n",
       "\n",
       "    .dataframe tbody tr th {\n",
       "        vertical-align: top;\n",
       "    }\n",
       "\n",
       "    .dataframe thead th {\n",
       "        text-align: right;\n",
       "    }\n",
       "</style>\n",
       "<table border=\"1\" class=\"dataframe\">\n",
       "  <thead>\n",
       "    <tr style=\"text-align: right;\">\n",
       "      <th></th>\n",
       "      <th>classe</th>\n",
       "      <th>conservador</th>\n",
       "      <th>moderado-conservador</th>\n",
       "      <th>moderado</th>\n",
       "      <th>moderado-agressivo</th>\n",
       "      <th>agressivo</th>\n",
       "    </tr>\n",
       "  </thead>\n",
       "  <tbody>\n",
       "    <tr>\n",
       "      <th>0</th>\n",
       "      <td>Renda Fixa Pós-Fixada</td>\n",
       "      <td>0.70</td>\n",
       "      <td>0.46</td>\n",
       "      <td>0.30</td>\n",
       "      <td>0.15</td>\n",
       "      <td>0.05</td>\n",
       "    </tr>\n",
       "    <tr>\n",
       "      <th>1</th>\n",
       "      <td>Renda Fixa Inflação</td>\n",
       "      <td>0.12</td>\n",
       "      <td>0.16</td>\n",
       "      <td>0.24</td>\n",
       "      <td>0.20</td>\n",
       "      <td>0.19</td>\n",
       "    </tr>\n",
       "    <tr>\n",
       "      <th>2</th>\n",
       "      <td>Renda Fixa Pré-Fixada</td>\n",
       "      <td>0.05</td>\n",
       "      <td>0.08</td>\n",
       "      <td>0.10</td>\n",
       "      <td>0.11</td>\n",
       "      <td>0.10</td>\n",
       "    </tr>\n",
       "    <tr>\n",
       "      <th>3</th>\n",
       "      <td>Renda Variável</td>\n",
       "      <td>0.02</td>\n",
       "      <td>0.04</td>\n",
       "      <td>0.07</td>\n",
       "      <td>0.14</td>\n",
       "      <td>0.20</td>\n",
       "    </tr>\n",
       "    <tr>\n",
       "      <th>4</th>\n",
       "      <td>Multimercado</td>\n",
       "      <td>0.09</td>\n",
       "      <td>0.21</td>\n",
       "      <td>0.22</td>\n",
       "      <td>0.30</td>\n",
       "      <td>0.31</td>\n",
       "    </tr>\n",
       "    <tr>\n",
       "      <th>5</th>\n",
       "      <td>Alternativos</td>\n",
       "      <td>0.00</td>\n",
       "      <td>0.00</td>\n",
       "      <td>0.00</td>\n",
       "      <td>0.00</td>\n",
       "      <td>0.00</td>\n",
       "    </tr>\n",
       "    <tr>\n",
       "      <th>6</th>\n",
       "      <td>Internacional</td>\n",
       "      <td>0.02</td>\n",
       "      <td>0.05</td>\n",
       "      <td>0.07</td>\n",
       "      <td>0.10</td>\n",
       "      <td>0.15</td>\n",
       "    </tr>\n",
       "    <tr>\n",
       "      <th>7</th>\n",
       "      <td>Saldo em Conta</td>\n",
       "      <td>0.00</td>\n",
       "      <td>0.00</td>\n",
       "      <td>0.00</td>\n",
       "      <td>0.00</td>\n",
       "      <td>0.00</td>\n",
       "    </tr>\n",
       "  </tbody>\n",
       "</table>\n",
       "</div>"
      ],
      "text/plain": [
       "                  classe  conservador  moderado-conservador  moderado  \\\n",
       "0  Renda Fixa Pós-Fixada         0.70                  0.46      0.30   \n",
       "1    Renda Fixa Inflação         0.12                  0.16      0.24   \n",
       "2  Renda Fixa Pré-Fixada         0.05                  0.08      0.10   \n",
       "3         Renda Variável         0.02                  0.04      0.07   \n",
       "4           Multimercado         0.09                  0.21      0.22   \n",
       "5           Alternativos         0.00                  0.00      0.00   \n",
       "6          Internacional         0.02                  0.05      0.07   \n",
       "7         Saldo em Conta         0.00                  0.00      0.00   \n",
       "\n",
       "   moderado-agressivo  agressivo  \n",
       "0                0.15       0.05  \n",
       "1                0.20       0.19  \n",
       "2                0.11       0.10  \n",
       "3                0.14       0.20  \n",
       "4                0.30       0.31  \n",
       "5                0.00       0.00  \n",
       "6                0.10       0.15  \n",
       "7                0.00       0.00  "
      ]
     },
     "execution_count": 62,
     "metadata": {},
     "output_type": "execute_result"
    }
   ],
   "source": [
    "al"
   ]
  },
  {
   "cell_type": "code",
   "execution_count": null,
   "metadata": {},
   "outputs": [],
   "source": [
    "#Limpeza dos dados\n",
    "#Elimina colunas onde o account_suitability é inexistente\n",
    "df.dropna(subset = 'account_suitability', inplace = True)\n",
    "#Elimina colunas onde a classe do investimento é inexistente\n",
    "df.dropna(subset = 'class_name', inplace = True)\n",
    "#Substitui os valores ausentes de asset_cnpj por 0\n",
    "df['asset_cnpj'].fillna(value = 0, inplace = True)\n",
    "\n",
    "# Realiza uma filtragem somando cada classe de investimento por conta e reordena os index e renomeia a coluna position_value para Soma. E filtra para aparecer somente as colunas account_code, account_suitability, class_name e soma.\n",
    "df = df[df['account_code'] == 2429]\n",
    "df = df.groupby(['account_code', 'account_suitability','class_name'])['position_value'].sum().reset_index().sort_values(['account_code', 'class_name']).rename(columns={'position_value' : 'Soma'})\n"
   ]
  },
  {
   "cell_type": "code",
   "execution_count": null,
   "metadata": {},
   "outputs": [
    {
     "data": {
      "text/html": [
       "<div>\n",
       "<style scoped>\n",
       "    .dataframe tbody tr th:only-of-type {\n",
       "        vertical-align: middle;\n",
       "    }\n",
       "\n",
       "    .dataframe tbody tr th {\n",
       "        vertical-align: top;\n",
       "    }\n",
       "\n",
       "    .dataframe thead th {\n",
       "        text-align: right;\n",
       "    }\n",
       "</style>\n",
       "<table border=\"1\" class=\"dataframe\">\n",
       "  <thead>\n",
       "    <tr style=\"text-align: right;\">\n",
       "      <th></th>\n",
       "      <th>account_code</th>\n",
       "      <th>account_suitability</th>\n",
       "      <th>class_name</th>\n",
       "      <th>Soma</th>\n",
       "    </tr>\n",
       "  </thead>\n",
       "  <tbody>\n",
       "    <tr>\n",
       "      <th>0</th>\n",
       "      <td>2429</td>\n",
       "      <td>moderado</td>\n",
       "      <td>Renda Fixa Inflação</td>\n",
       "      <td>1.343101e+08</td>\n",
       "    </tr>\n",
       "    <tr>\n",
       "      <th>1</th>\n",
       "      <td>2429</td>\n",
       "      <td>moderado</td>\n",
       "      <td>Renda Fixa Pré-Fixada</td>\n",
       "      <td>2.968725e+05</td>\n",
       "    </tr>\n",
       "    <tr>\n",
       "      <th>2</th>\n",
       "      <td>2429</td>\n",
       "      <td>moderado</td>\n",
       "      <td>Renda Fixa Pós-Fixada</td>\n",
       "      <td>6.425970e+03</td>\n",
       "    </tr>\n",
       "    <tr>\n",
       "      <th>3</th>\n",
       "      <td>2429</td>\n",
       "      <td>moderado</td>\n",
       "      <td>Reserva de Liquidez</td>\n",
       "      <td>1.306173e+04</td>\n",
       "    </tr>\n",
       "    <tr>\n",
       "      <th>4</th>\n",
       "      <td>2429</td>\n",
       "      <td>moderado</td>\n",
       "      <td>Saldo em Conta</td>\n",
       "      <td>0.000000e+00</td>\n",
       "    </tr>\n",
       "  </tbody>\n",
       "</table>\n",
       "</div>"
      ],
      "text/plain": [
       "   account_code account_suitability             class_name          Soma\n",
       "0          2429            moderado    Renda Fixa Inflação  1.343101e+08\n",
       "1          2429            moderado  Renda Fixa Pré-Fixada  2.968725e+05\n",
       "2          2429            moderado  Renda Fixa Pós-Fixada  6.425970e+03\n",
       "3          2429            moderado    Reserva de Liquidez  1.306173e+04\n",
       "4          2429            moderado         Saldo em Conta  0.000000e+00"
      ]
     },
     "execution_count": 64,
     "metadata": {},
     "output_type": "execute_result"
    }
   ],
   "source": [
    "df"
   ]
  },
  {
   "cell_type": "code",
   "execution_count": null,
   "metadata": {},
   "outputs": [
    {
     "data": {
      "text/plain": [
       "array([2429])"
      ]
     },
     "execution_count": 65,
     "metadata": {},
     "output_type": "execute_result"
    }
   ],
   "source": [
    "#Lista com os clientes\n",
    "clients = df['account_code'].unique()\n",
    "clients"
   ]
  },
  {
   "cell_type": "code",
   "execution_count": null,
   "metadata": {},
   "outputs": [
    {
     "name": "stdout",
     "output_type": "stream",
     "text": [
      "134626482.6309\n"
     ]
    }
   ],
   "source": [
    "#  Realiza a soma dos valores investidos de um cliente e armazena em uma variável: total\n",
    "total = (df[df['account_code'] == clients[0]])['Soma'].sum()\n",
    "print(total)    "
   ]
  },
  {
   "cell_type": "code",
   "execution_count": null,
   "metadata": {},
   "outputs": [],
   "source": [
    "client0 = df[df['account_code'] == clients[0]]\n",
    "df['Soma'] = client0['Soma'].div(total)"
   ]
  },
  {
   "cell_type": "code",
   "execution_count": null,
   "metadata": {},
   "outputs": [
    {
     "data": {
      "text/html": [
       "<div>\n",
       "<style scoped>\n",
       "    .dataframe tbody tr th:only-of-type {\n",
       "        vertical-align: middle;\n",
       "    }\n",
       "\n",
       "    .dataframe tbody tr th {\n",
       "        vertical-align: top;\n",
       "    }\n",
       "\n",
       "    .dataframe thead th {\n",
       "        text-align: right;\n",
       "    }\n",
       "</style>\n",
       "<table border=\"1\" class=\"dataframe\">\n",
       "  <thead>\n",
       "    <tr style=\"text-align: right;\">\n",
       "      <th></th>\n",
       "      <th>account_code</th>\n",
       "      <th>account_suitability</th>\n",
       "      <th>class_name</th>\n",
       "      <th>Soma</th>\n",
       "    </tr>\n",
       "  </thead>\n",
       "  <tbody>\n",
       "    <tr>\n",
       "      <th>0</th>\n",
       "      <td>2429</td>\n",
       "      <td>moderado</td>\n",
       "      <td>Renda Fixa Inflação</td>\n",
       "      <td>0.997650</td>\n",
       "    </tr>\n",
       "    <tr>\n",
       "      <th>1</th>\n",
       "      <td>2429</td>\n",
       "      <td>moderado</td>\n",
       "      <td>Renda Fixa Pré-Fixada</td>\n",
       "      <td>0.002205</td>\n",
       "    </tr>\n",
       "    <tr>\n",
       "      <th>2</th>\n",
       "      <td>2429</td>\n",
       "      <td>moderado</td>\n",
       "      <td>Renda Fixa Pós-Fixada</td>\n",
       "      <td>0.000048</td>\n",
       "    </tr>\n",
       "    <tr>\n",
       "      <th>3</th>\n",
       "      <td>2429</td>\n",
       "      <td>moderado</td>\n",
       "      <td>Reserva de Liquidez</td>\n",
       "      <td>0.000097</td>\n",
       "    </tr>\n",
       "    <tr>\n",
       "      <th>4</th>\n",
       "      <td>2429</td>\n",
       "      <td>moderado</td>\n",
       "      <td>Saldo em Conta</td>\n",
       "      <td>0.000000</td>\n",
       "    </tr>\n",
       "  </tbody>\n",
       "</table>\n",
       "</div>"
      ],
      "text/plain": [
       "   account_code account_suitability             class_name      Soma\n",
       "0          2429            moderado    Renda Fixa Inflação  0.997650\n",
       "1          2429            moderado  Renda Fixa Pré-Fixada  0.002205\n",
       "2          2429            moderado  Renda Fixa Pós-Fixada  0.000048\n",
       "3          2429            moderado    Reserva de Liquidez  0.000097\n",
       "4          2429            moderado         Saldo em Conta  0.000000"
      ]
     },
     "execution_count": 68,
     "metadata": {},
     "output_type": "execute_result"
    }
   ],
   "source": [
    "# Filtrando respectivo cliente em um dataframe separado\n",
    "teste = df[df['account_code'] == clients[0]]\n",
    "teste\n"
   ]
  },
  {
   "cell_type": "code",
   "execution_count": null,
   "metadata": {},
   "outputs": [
    {
     "name": "stdout",
     "output_type": "stream",
     "text": [
      "{'Renda Fixa Pós-Fixada': 0.3, 'Renda Fixa Inflação': 0.24, 'Renda Fixa Pré-Fixada': 0.1, 'Internacional': 0.07, 'Multimercado': 0.22, 'Saldo em Conta': 0.0}\n"
     ]
    }
   ],
   "source": [
    "perfil = teste['account_suitability'].iloc[0] # perfil do cliente a partir da tabela de alocações\n",
    "class_allocation = pd.Series(al.classe.values, index=al[perfil].values).to_dict() # dicionário com as alocações do respectivo cliente\n",
    "class_allocation = {v: k for k, v in class_allocation.items()} # inverte as chaves e os valores do dicionário\n",
    "print(class_allocation)"
   ]
  },
  {
   "cell_type": "code",
   "execution_count": null,
   "metadata": {},
   "outputs": [
    {
     "name": "stdout",
     "output_type": "stream",
     "text": [
      "{'Renda Fixa Inflação': 0.9976500890945258, 'Renda Fixa Pré-Fixada': 0.00220515706789966, 'Renda Fixa Pós-Fixada': 4.773184201519862e-05, 'Reserva de Liquidez': 9.702199555945332e-05, 'Saldo em Conta': 0.0}\n"
     ]
    }
   ],
   "source": [
    "#Dicionario do percentual de tipo de investimento do cliente respectivo\n",
    "client = dict(zip(teste['class_name'], teste['Soma']))\n",
    "print(client)"
   ]
  },
  {
   "cell_type": "code",
   "execution_count": null,
   "metadata": {},
   "outputs": [
    {
     "name": "stdout",
     "output_type": "stream",
     "text": [
      "{'2429': '0.8525660396603754'}\n"
     ]
    }
   ],
   "source": [
    "#Calculo da aderência do cliente ao perfil de investimento\n",
    "distance = 0\n",
    "for asset_class, allocation_percentage in class_allocation.items():\n",
    "    client_allocation = client.get(asset_class, 0)\n",
    "    distance += (allocation_percentage - client_allocation) ** 2\n",
    "\n",
    "euclidean_distance = math.sqrt(distance)\n",
    "\n",
    "aderencia = dict()\n",
    "\n",
    "aderencia.update({f\"{teste['account_code'].iloc[0]}\" : f\"{euclidean_distance}\"})\n",
    "print(aderencia)"
   ]
  }
 ],
 "metadata": {
  "kernelspec": {
   "display_name": "Python 3",
   "language": "python",
   "name": "python3"
  },
  "language_info": {
   "codemirror_mode": {
    "name": "ipython",
    "version": 3
   },
   "file_extension": ".py",
   "mimetype": "text/x-python",
   "name": "python",
   "nbconvert_exporter": "python",
   "pygments_lexer": "ipython3",
   "version": "3.10.12"
  },
  "orig_nbformat": 4
 },
 "nbformat": 4,
 "nbformat_minor": 2
}
